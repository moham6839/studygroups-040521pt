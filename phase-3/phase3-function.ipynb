{
 "cells": [
  {
   "cell_type": "markdown",
   "id": "32f847fc",
   "metadata": {},
   "source": [
    "# Pre-Project Assignment\n",
    "\n",
    "### Goals\n",
    "\n",
    "- To create at least one function to automate modeling processes and getting metrics\n",
    "- Understand the model object and how to retrieve information from a model\n",
    "- (Optional) Scripting!"
   ]
  },
  {
   "cell_type": "markdown",
   "id": "0c0a4879",
   "metadata": {},
   "source": [
    "### Imports & Sandbox Data\n",
    "\n",
    "You can definitely add imports as you go along!\n",
    "\n",
    "For testing your function, we'll use the [Banknote Authentication Dataset](https://archive.ics.uci.edu/ml/datasets/banknote+authentication). In this Binary Classification dataset, 0 is an **Authentic** banknote, 1 is a **Forged** banknote. The four features are Skewness, Variance, Kurtosis and Entropy."
   ]
  },
  {
   "cell_type": "code",
   "execution_count": null,
   "id": "58f61639",
   "metadata": {},
   "outputs": [],
   "source": [
    "import numpy as np\n",
    "import pandas as pd\n",
    "import matplotlib.pyplot as plt\n",
    "import pickle # this is for scripting\n",
    "\n",
    "from sklearn.model_selection import train_test_split\n",
    "from sklearn.tree import DecisionTreeClassifier\n",
    "from sklearn.ensemble import RandomForestClassifier\n",
    "\n",
    "from sklearn.metrics import plot_confusion_matrix, classification_report"
   ]
  },
  {
   "cell_type": "code",
   "execution_count": null,
   "id": "5b6bd3cf",
   "metadata": {},
   "outputs": [],
   "source": [
    "df = pd.read_csv('data_banknote_authentication.csv')\n",
    "df.columns = [\"Variance\",\"Skewness\", \"Kurtosis\", \"Entropy\", \"Class\"]\n",
    "\n",
    "X = df.drop('Class', axis=1)\n",
    "y = df['Class']\n",
    "X_train, X_test, y_train, y_test = train_test_split(X, y, test_size = 0.20) "
   ]
  },
  {
   "cell_type": "code",
   "execution_count": null,
   "id": "86b3f1b3",
   "metadata": {},
   "outputs": [],
   "source": [
    "# feel free to inspect your data here!\n",
    "\n"
   ]
  },
  {
   "cell_type": "code",
   "execution_count": null,
   "id": "cee21471",
   "metadata": {},
   "outputs": [],
   "source": []
  },
  {
   "cell_type": "markdown",
   "id": "019b3142",
   "metadata": {},
   "source": [
    "## Fitting and Evaluating a Model\n",
    "\n",
    "Let's start with a Decision Tree. We're going to fit a Decision Tree with default parameters and output:\n",
    "- Confusion Matrix: https://scikit-learn.org/stable/modules/generated/sklearn.metrics.plot_confusion_matrix.html\n",
    "- Classification Report: https://scikit-learn.org/stable/modules/generated/sklearn.metrics.classification_report.html\n",
    "\n",
    "For **both** the train set and the test set.\n",
    "\n",
    "\n"
   ]
  },
  {
   "cell_type": "code",
   "execution_count": null,
   "id": "27022bf9",
   "metadata": {},
   "outputs": [],
   "source": [
    "# instantiation\n",
    "dtree = DecisionTreeClassifier()\n",
    "\n",
    "# fitting\n",
    "dtree.fit(X_train, y_train)\n",
    "\n",
    "# predictions\n",
    "y_hat_train = dtree.predict(X_train)\n",
    "y_hat_test = dtree.predict(X_test)"
   ]
  },
  {
   "cell_type": "code",
   "execution_count": null,
   "id": "bb757164",
   "metadata": {},
   "outputs": [],
   "source": [
    "print(classification_report(y_train, y_hat_train))\n",
    "print(classification_report(y_test, y_hat_test))"
   ]
  },
  {
   "cell_type": "code",
   "execution_count": null,
   "id": "ae571f5c",
   "metadata": {},
   "outputs": [],
   "source": [
    "fig, (ax0, ax1) = plt.subplots(1, 2, figsize=(18, 6))\n",
    "\n",
    "plot_confusion_matrix(dtree, X_train, y_train, ax=ax0)\n",
    "plot_confusion_matrix(dtree, X_test, y_test, ax=ax1)\n",
    "\n",
    "ax0.title.set_text('Train Confusion Matrix')\n",
    "ax1.title.set_text('Test Confusion Matrix')"
   ]
  },
  {
   "cell_type": "markdown",
   "id": "71f34215",
   "metadata": {},
   "source": [
    "## Replicate with a Random Forest\n",
    "\n",
    "Repeat the same steps with a random forest. Start to get a sense of how your function will look."
   ]
  },
  {
   "cell_type": "code",
   "execution_count": null,
   "id": "3c100e9c",
   "metadata": {},
   "outputs": [],
   "source": []
  },
  {
   "cell_type": "code",
   "execution_count": null,
   "id": "b1ca5e74",
   "metadata": {},
   "outputs": [],
   "source": []
  },
  {
   "cell_type": "code",
   "execution_count": null,
   "id": "8f4e2edc",
   "metadata": {},
   "outputs": [],
   "source": []
  },
  {
   "cell_type": "markdown",
   "id": "196c503c",
   "metadata": {},
   "source": [
    "## Function Time!!\n",
    "\n",
    "Now create a function with your own inputs to be able to replicate the process with any instantiated model. You can change up the arguments of the function as you see fit, and make sure you're returning the model object if it's being fit within your function. \n",
    "\n",
    "You can even play around with what information your function gets for you! Perhaps the amount of time it takes for your model to train? "
   ]
  },
  {
   "cell_type": "code",
   "execution_count": null,
   "id": "96222d94",
   "metadata": {},
   "outputs": [],
   "source": [
    "def run_model(model, X_train, y_train, X_test, y_test):\n",
    "    \n",
    "    return model # return the model object!!!"
   ]
  },
  {
   "cell_type": "code",
   "execution_count": null,
   "id": "71697504",
   "metadata": {},
   "outputs": [],
   "source": [
    "# import and instantiate a different sklearn model to test your function!\n",
    "# after instantiating a model, the run_model function should run and output whatever you want it to output\n",
    "\n",
    "test_model = None\n",
    "\n",
    "run_model(test_model, X_train, y_train, X_test, y_test)"
   ]
  },
  {
   "cell_type": "code",
   "execution_count": null,
   "id": "a9782950",
   "metadata": {},
   "outputs": [],
   "source": []
  },
  {
   "cell_type": "markdown",
   "id": "f8e6ce9f",
   "metadata": {},
   "source": [
    "### Why `return` model?\n",
    "\n",
    "In short, it allows us to access the model's attributes, such as feature importances, via a variable."
   ]
  },
  {
   "cell_type": "code",
   "execution_count": null,
   "id": "99d9fffc",
   "metadata": {},
   "outputs": [],
   "source": [
    "dtree2 = DecisionTreeClassifier(max_depth=10)\n",
    "dtree2.fit(X_train, y_train)"
   ]
  },
  {
   "cell_type": "code",
   "execution_count": null,
   "id": "7e5cdf30",
   "metadata": {},
   "outputs": [],
   "source": [
    "dtree2.feature_importances_ # for example, feature importances is an attribute of a fitted model"
   ]
  },
  {
   "cell_type": "code",
   "execution_count": null,
   "id": "dfbfd63d",
   "metadata": {},
   "outputs": [],
   "source": [
    "fi = sorted(list(zip(dtree2.feature_importances_, X_train.columns)))\n",
    "fi = pd.DataFrame(fi, columns=['impt', 'name'])\n",
    "fi"
   ]
  },
  {
   "cell_type": "code",
   "execution_count": null,
   "id": "773cff0d",
   "metadata": {},
   "outputs": [],
   "source": [
    "plt.barh(fi.name, fi.impt)\n",
    "plt.title('Feature Importances');"
   ]
  },
  {
   "cell_type": "markdown",
   "id": "4b1cf0c0",
   "metadata": {},
   "source": [
    "If you were to do:\n",
    "\n",
    "```variable = run_model(tree, X_train, y_train, X_test, y_test)```\n",
    "\n",
    "You'd be able to access feature importances through: `variable.feature_importances_` as long as you return the model object at the end of your function. **Don't forget to return the model object!!!**"
   ]
  },
  {
   "cell_type": "markdown",
   "id": "59e26660",
   "metadata": {},
   "source": [
    "## Scripting\n",
    "\n",
    "We have talked briefly about scripting in the past! To try it out:\n",
    "\n",
    "1. Create a Python file ending in `.py`. For example, `functions.py`\n",
    "2. Copy your import statements into the Python file, as well as your function\n",
    "3. To test if your script works, do: `from functions import *` and you should be able to use your function in any notebook!"
   ]
  },
  {
   "cell_type": "code",
   "execution_count": null,
   "id": "880b6b32",
   "metadata": {},
   "outputs": [],
   "source": []
  }
 ],
 "metadata": {
  "kernelspec": {
   "display_name": "Python 3",
   "language": "python",
   "name": "python3"
  },
  "language_info": {
   "codemirror_mode": {
    "name": "ipython",
    "version": 3
   },
   "file_extension": ".py",
   "mimetype": "text/x-python",
   "name": "python",
   "nbconvert_exporter": "python",
   "pygments_lexer": "ipython3",
   "version": "3.9.6"
  },
  "toc": {
   "base_numbering": 1,
   "nav_menu": {},
   "number_sections": false,
   "sideBar": true,
   "skip_h1_title": false,
   "title_cell": "Table of Contents",
   "title_sidebar": "Contents",
   "toc_cell": false,
   "toc_position": {},
   "toc_section_display": true,
   "toc_window_display": true
  }
 },
 "nbformat": 4,
 "nbformat_minor": 5
}
