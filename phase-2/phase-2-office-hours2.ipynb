{
 "cells": [
  {
   "cell_type": "code",
   "execution_count": 1,
   "id": "3ebde107",
   "metadata": {},
   "outputs": [],
   "source": [
    "import pandas as pd\n",
    "import numpy as np\n",
    "\n",
    "import statsmodels.api as sm\n",
    "from statsmodels.formula.api import ols\n",
    "\n",
    "from sklearn.model_selection import train_test_split\n",
    "from sklearn.metrics import mean_squared_error\n",
    "from sklearn.linear_model import LinearRegression\n",
    "\n",
    "import matplotlib.pyplot as plt"
   ]
  },
  {
   "cell_type": "code",
   "execution_count": 2,
   "id": "c4e20760",
   "metadata": {},
   "outputs": [],
   "source": [
    "def model(X_train, X_test, y_train, y_test):\n",
    "    \n",
    "    # statsmodels\n",
    "    features = X_train.copy()\n",
    "    features['mpg'] = y_train\n",
    "    \n",
    "    formula = 'mpg~' + '+'.join(X_train.columns)\n",
    "    model = ols(formula=formula, data=features).fit()\n",
    "    \n",
    "    #sklearn\n",
    "    linreg = LinearRegression()\n",
    "    linreg.fit(X_train, y_train)\n",
    "    \n",
    "    y_hat_train = linreg.predict(X_train)\n",
    "    y_hat_test = linreg.predict(X_test)\n",
    "\n",
    "    train_mse = mean_squared_error(y_train, y_hat_train)\n",
    "    test_mse = mean_squared_error(y_test, y_hat_test)\n",
    "\n",
    "    print(\"Train R2: \", linreg.score(X_train, y_train))\n",
    "    print(\"Test R2: \", linreg.score(X_test, y_test))\n",
    "\n",
    "    print(\"Train RMSE: \", train_mse**0.5)\n",
    "    print(\"Test RMSE: \", test_mse**0.5)\n",
    "    \n",
    "    return model.summary()"
   ]
  },
  {
   "cell_type": "code",
   "execution_count": 18,
   "id": "af9d55d3",
   "metadata": {},
   "outputs": [],
   "source": [
    "data = pd.read_csv('auto-mpg.csv')\n",
    "data.columns = ['mpg', 'cylinders', 'displacement', 'horsepower', 'weight', 'acceleration', 'year', 'origin', 'name']\n",
    "\n"
   ]
  },
  {
   "cell_type": "markdown",
   "id": "32731c90",
   "metadata": {},
   "source": [
    "## Baseline Model"
   ]
  },
  {
   "cell_type": "code",
   "execution_count": 19,
   "id": "0c240469",
   "metadata": {},
   "outputs": [],
   "source": [
    "y = data[['mpg']]\n",
    "X = data[['weight', 'acceleration', 'year', 'origin']]"
   ]
  },
  {
   "cell_type": "code",
   "execution_count": 20,
   "id": "cd4fdef1",
   "metadata": {},
   "outputs": [],
   "source": [
    "X_train, X_test, y_train, y_test = train_test_split(X, y, test_size=0.2)"
   ]
  },
  {
   "cell_type": "code",
   "execution_count": 21,
   "id": "f47653af",
   "metadata": {},
   "outputs": [
    {
     "data": {
      "text/plain": [
       "<AxesSubplot:ylabel='Frequency'>"
      ]
     },
     "execution_count": 21,
     "metadata": {},
     "output_type": "execute_result"
    },
    {
     "data": {
      "image/png": "[encoded data removed]",
      "text/plain": [
       "<Figure size 432x288 with 1 Axes>"
      ]
     },
     "metadata": {
      "needs_background": "light"
     },
     "output_type": "display_data"
    }
   ],
   "source": [
    "y.plot(kind='hist')"
   ]
  },
  {
   "cell_type": "code",
   "execution_count": 6,
   "id": "4465fa7f",
   "metadata": {},
   "outputs": [
    {
     "name": "stdout",
     "output_type": "stream",
     "text": [
      "Train R2:  0.827033790091839\n",
      "Test R2:  0.7785909799528492\n",
      "Train RMSE:  3.2076227571481315\n",
      "Test RMSE:  3.801606614801689\n"
     ]
    },
    {
     "data": {
      "text/html": [
       "<table class=\"simpletable\">\n",
       "<caption>OLS Regression Results</caption>\n",
       "<tr>\n",
       "  <th>Dep. Variable:</th>           <td>mpg</td>       <th>  R-squared:         </th> <td>   0.827</td> \n",
       "</tr>\n",
       "<tr>\n",
       "  <th>Model:</th>                   <td>OLS</td>       <th>  Adj. R-squared:    </th> <td>   0.825</td> \n",
       "</tr>\n",
       "<tr>\n",
       "  <th>Method:</th>             <td>Least Squares</td>  <th>  F-statistic:       </th> <td>   368.2</td> \n",
       "</tr>\n",
       "<tr>\n",
       "  <th>Date:</th>             <td>Sat, 17 Jul 2021</td> <th>  Prob (F-statistic):</th> <td>5.68e-116</td>\n",
       "</tr>\n",
       "<tr>\n",
       "  <th>Time:</th>                 <td>11:59:39</td>     <th>  Log-Likelihood:    </th> <td> -808.94</td> \n",
       "</tr>\n",
       "<tr>\n",
       "  <th>No. Observations:</th>      <td>   313</td>      <th>  AIC:               </th> <td>   1628.</td> \n",
       "</tr>\n",
       "<tr>\n",
       "  <th>Df Residuals:</th>          <td>   308</td>      <th>  BIC:               </th> <td>   1647.</td> \n",
       "</tr>\n",
       "<tr>\n",
       "  <th>Df Model:</th>              <td>     4</td>      <th>                     </th>     <td> </td>    \n",
       "</tr>\n",
       "<tr>\n",
       "  <th>Covariance Type:</th>      <td>nonrobust</td>    <th>                     </th>     <td> </td>    \n",
       "</tr>\n",
       "</table>\n",
       "<table class=\"simpletable\">\n",
       "<tr>\n",
       "        <td></td>          <th>coef</th>     <th>std err</th>      <th>t</th>      <th>P>|t|</th>  <th>[0.025</th>    <th>0.975]</th>  \n",
       "</tr>\n",
       "<tr>\n",
       "  <th>Intercept</th>    <td>  -16.7719</td> <td>    4.438</td> <td>   -3.779</td> <td> 0.000</td> <td>  -25.504</td> <td>   -8.040</td>\n",
       "</tr>\n",
       "<tr>\n",
       "  <th>weight</th>       <td>   -0.0060</td> <td>    0.000</td> <td>  -20.137</td> <td> 0.000</td> <td>   -0.007</td> <td>   -0.005</td>\n",
       "</tr>\n",
       "<tr>\n",
       "  <th>acceleration</th> <td>    0.0009</td> <td>    0.076</td> <td>    0.012</td> <td> 0.991</td> <td>   -0.148</td> <td>    0.150</td>\n",
       "</tr>\n",
       "<tr>\n",
       "  <th>year</th>         <td>    0.7433</td> <td>    0.053</td> <td>   13.960</td> <td> 0.000</td> <td>    0.639</td> <td>    0.848</td>\n",
       "</tr>\n",
       "<tr>\n",
       "  <th>origin</th>       <td>    0.9616</td> <td>    0.284</td> <td>    3.389</td> <td> 0.001</td> <td>    0.403</td> <td>    1.520</td>\n",
       "</tr>\n",
       "</table>\n",
       "<table class=\"simpletable\">\n",
       "<tr>\n",
       "  <th>Omnibus:</th>       <td>27.174</td> <th>  Durbin-Watson:     </th> <td>   1.985</td>\n",
       "</tr>\n",
       "<tr>\n",
       "  <th>Prob(Omnibus):</th> <td> 0.000</td> <th>  Jarque-Bera (JB):  </th> <td>  47.556</td>\n",
       "</tr>\n",
       "<tr>\n",
       "  <th>Skew:</th>          <td> 0.520</td> <th>  Prob(JB):          </th> <td>4.71e-11</td>\n",
       "</tr>\n",
       "<tr>\n",
       "  <th>Kurtosis:</th>      <td> 4.601</td> <th>  Cond. No.          </th> <td>7.58e+04</td>\n",
       "</tr>\n",
       "</table><br/><br/>Notes:<br/>[1] Standard Errors assume that the covariance matrix of the errors is correctly specified.<br/>[2] The condition number is large, 7.58e+04. This might indicate that there are<br/>strong multicollinearity or other numerical problems."
      ],
      "text/plain": [
       "<class 'statsmodels.iolib.summary.Summary'>\n",
       "\"\"\"\n",
       "                            OLS Regression Results                            \n",
       "==============================================================================\n",
       "Dep. Variable:                    mpg   R-squared:                       0.827\n",
       "Model:                            OLS   Adj. R-squared:                  0.825\n",
       "Method:                 Least Squares   F-statistic:                     368.2\n",
       "Date:                Sat, 17 Jul 2021   Prob (F-statistic):          5.68e-116\n",
       "Time:                        11:59:39   Log-Likelihood:                -808.94\n",
       "No. Observations:                 313   AIC:                             1628.\n",
       "Df Residuals:                     308   BIC:                             1647.\n",
       "Df Model:                           4                                         \n",
       "Covariance Type:            nonrobust                                         \n",
       "================================================================================\n",
       "                   coef    std err          t      P>|t|      [0.025      0.975]\n",
       "--------------------------------------------------------------------------------\n",
       "Intercept      -16.7719      4.438     -3.779      0.000     -25.504      -8.040\n",
       "weight          -0.0060      0.000    -20.137      0.000      -0.007      -0.005\n",
       "acceleration     0.0009      0.076      0.012      0.991      -0.148       0.150\n",
       "year             0.7433      0.053     13.960      0.000       0.639       0.848\n",
       "origin           0.9616      0.284      3.389      0.001       0.403       1.520\n",
       "==============================================================================\n",
       "Omnibus:                       27.174   Durbin-Watson:                   1.985\n",
       "Prob(Omnibus):                  0.000   Jarque-Bera (JB):               47.556\n",
       "Skew:                           0.520   Prob(JB):                     4.71e-11\n",
       "Kurtosis:                       4.601   Cond. No.                     7.58e+04\n",
       "==============================================================================\n",
       "\n",
       "Notes:\n",
       "[1] Standard Errors assume that the covariance matrix of the errors is correctly specified.\n",
       "[2] The condition number is large, 7.58e+04. This might indicate that there are\n",
       "strong multicollinearity or other numerical problems.\n",
       "\"\"\""
      ]
     },
     "execution_count": 6,
     "metadata": {},
     "output_type": "execute_result"
    }
   ],
   "source": [
    "model(X_train, X_test, y_train, y_test)"
   ]
  },
  {
   "cell_type": "code",
   "execution_count": 7,
   "id": "c8a1337b",
   "metadata": {},
   "outputs": [
    {
     "data": {
      "image/png": "[encoded data removed]",
      "text/plain": [
       "<Figure size 432x288 with 1 Axes>"
      ]
     },
     "metadata": {
      "needs_background": "light"
     },
     "output_type": "display_data"
    },
    {
     "data": {
      "image/png": "[encoded data removed]",
      "text/plain": [
       "<Figure size 432x288 with 1 Axes>"
      ]
     },
     "metadata": {
      "needs_background": "light"
     },
     "output_type": "display_data"
    },
    {
     "data": {
      "image/png": "[encoded data removed]",
      "text/plain": [
       "<Figure size 432x288 with 1 Axes>"
      ]
     },
     "metadata": {
      "needs_background": "light"
     },
     "output_type": "display_data"
    },
    {
     "data": {
      "image/png": "[encoded data removed]",
      "text/plain": [
       "<Figure size 432x288 with 1 Axes>"
      ]
     },
     "metadata": {
      "needs_background": "light"
     },
     "output_type": "display_data"
    }
   ],
   "source": [
    "for col in X.columns:\n",
    "    fig = plt.figure\n",
    "    ax = plt.gca()\n",
    "    ax.scatter(X[col], y)\n",
    "    \n",
    "    ax.set_xlabel(col)\n",
    "    ax.set_ylabel('mpg')\n",
    "    \n",
    "    plt.show()"
   ]
  },
  {
   "cell_type": "markdown",
   "id": "54051088",
   "metadata": {},
   "source": [
    "## Log-Transform Weight"
   ]
  },
  {
   "cell_type": "code",
   "execution_count": 31,
   "id": "cf7d96fd",
   "metadata": {
    "scrolled": true
   },
   "outputs": [
    {
     "name": "stderr",
     "output_type": "stream",
     "text": [
      "<ipython-input-31-f90763eca8e0>:3: SettingWithCopyWarning: \n",
      "A value is trying to be set on a copy of a slice from a DataFrame.\n",
      "Try using .loc[row_indexer,col_indexer] = value instead\n",
      "\n",
      "See the caveats in the documentation: https://pandas.pydata.org/pandas-docs/stable/user_guide/indexing.html#returning-a-view-versus-a-copy\n",
      "  X['log_weight'] = np.log(X['weight'])\n"
     ]
    }
   ],
   "source": [
    "y = data[['mpg']]\n",
    "X = data[['weight', 'acceleration', 'year', 'origin']]\n",
    "X['log_weight'] = np.log(X['weight'])"
   ]
  },
  {
   "cell_type": "code",
   "execution_count": null,
   "id": "c0edfec6",
   "metadata": {},
   "outputs": [],
   "source": [
    "np.log"
   ]
  },
  {
   "cell_type": "code",
   "execution_count": 33,
   "id": "c8703c00",
   "metadata": {},
   "outputs": [
    {
     "data": {
      "text/plain": [
       "<AxesSubplot:ylabel='Frequency'>"
      ]
     },
     "execution_count": 33,
     "metadata": {},
     "output_type": "execute_result"
    },
    {
     "data": {
      "image/png": "[encoded data removed]",
      "text/plain": [
       "<Figure size 432x288 with 1 Axes>"
      ]
     },
     "metadata": {
      "needs_background": "light"
     },
     "output_type": "display_data"
    }
   ],
   "source": [
    "data['weight'].plot(kind='hist')"
   ]
  },
  {
   "cell_type": "code",
   "execution_count": 34,
   "id": "2261ec16",
   "metadata": {},
   "outputs": [
    {
     "data": {
      "text/plain": [
       "<AxesSubplot:ylabel='Frequency'>"
      ]
     },
     "execution_count": 34,
     "metadata": {},
     "output_type": "execute_result"
    },
    {
     "data": {
      "image/png": "[encoded data removed]",
      "text/plain": [
       "<Figure size 432x288 with 1 Axes>"
      ]
     },
     "metadata": {
      "needs_background": "light"
     },
     "output_type": "display_data"
    }
   ],
   "source": [
    "X['log_weight'].plot(kind='hist')"
   ]
  },
  {
   "cell_type": "code",
   "execution_count": 29,
   "id": "32417ac9",
   "metadata": {},
   "outputs": [],
   "source": [
    "X_train, X_test, y_train, y_test = train_test_split(X, y, test_size=0.2)"
   ]
  },
  {
   "cell_type": "code",
   "execution_count": 30,
   "id": "1369df4b",
   "metadata": {},
   "outputs": [
    {
     "name": "stdout",
     "output_type": "stream",
     "text": [
      "Train R2:  0.8445072551752135\n",
      "Test R2:  0.8278036401052529\n",
      "Train RMSE:  3.111532824978029\n",
      "Test RMSE:  3.071580509902358\n"
     ]
    },
    {
     "data": {
      "text/html": [
       "<table class=\"simpletable\">\n",
       "<caption>OLS Regression Results</caption>\n",
       "<tr>\n",
       "  <th>Dep. Variable:</th>           <td>mpg</td>       <th>  R-squared:         </th> <td>   0.845</td> \n",
       "</tr>\n",
       "<tr>\n",
       "  <th>Model:</th>                   <td>OLS</td>       <th>  Adj. R-squared:    </th> <td>   0.842</td> \n",
       "</tr>\n",
       "<tr>\n",
       "  <th>Method:</th>             <td>Least Squares</td>  <th>  F-statistic:       </th> <td>   418.2</td> \n",
       "</tr>\n",
       "<tr>\n",
       "  <th>Date:</th>             <td>Sat, 17 Jul 2021</td> <th>  Prob (F-statistic):</th> <td>4.37e-123</td>\n",
       "</tr>\n",
       "<tr>\n",
       "  <th>Time:</th>                 <td>12:09:22</td>     <th>  Log-Likelihood:    </th> <td> -799.42</td> \n",
       "</tr>\n",
       "<tr>\n",
       "  <th>No. Observations:</th>      <td>   313</td>      <th>  AIC:               </th> <td>   1609.</td> \n",
       "</tr>\n",
       "<tr>\n",
       "  <th>Df Residuals:</th>          <td>   308</td>      <th>  BIC:               </th> <td>   1628.</td> \n",
       "</tr>\n",
       "<tr>\n",
       "  <th>Df Model:</th>              <td>     4</td>      <th>                     </th>     <td> </td>    \n",
       "</tr>\n",
       "<tr>\n",
       "  <th>Covariance Type:</th>      <td>nonrobust</td>    <th>                     </th>     <td> </td>    \n",
       "</tr>\n",
       "</table>\n",
       "<table class=\"simpletable\">\n",
       "<tr>\n",
       "        <td></td>          <th>coef</th>     <th>std err</th>      <th>t</th>      <th>P>|t|</th>  <th>[0.025</th>    <th>0.975]</th>  \n",
       "</tr>\n",
       "<tr>\n",
       "  <th>Intercept</th>    <td>  110.9265</td> <td>    8.733</td> <td>   12.702</td> <td> 0.000</td> <td>   93.743</td> <td>  128.110</td>\n",
       "</tr>\n",
       "<tr>\n",
       "  <th>weight</th>       <td>  -18.5580</td> <td>    0.847</td> <td>  -21.916</td> <td> 0.000</td> <td>  -20.224</td> <td>  -16.892</td>\n",
       "</tr>\n",
       "<tr>\n",
       "  <th>acceleration</th> <td>    0.0751</td> <td>    0.070</td> <td>    1.075</td> <td> 0.283</td> <td>   -0.062</td> <td>    0.212</td>\n",
       "</tr>\n",
       "<tr>\n",
       "  <th>year</th>         <td>    0.7584</td> <td>    0.051</td> <td>   14.756</td> <td> 0.000</td> <td>    0.657</td> <td>    0.859</td>\n",
       "</tr>\n",
       "<tr>\n",
       "  <th>origin</th>       <td>    0.9233</td> <td>    0.282</td> <td>    3.278</td> <td> 0.001</td> <td>    0.369</td> <td>    1.478</td>\n",
       "</tr>\n",
       "</table>\n",
       "<table class=\"simpletable\">\n",
       "<tr>\n",
       "  <th>Omnibus:</th>       <td>34.880</td> <th>  Durbin-Watson:     </th> <td>   2.077</td>\n",
       "</tr>\n",
       "<tr>\n",
       "  <th>Prob(Omnibus):</th> <td> 0.000</td> <th>  Jarque-Bera (JB):  </th> <td>  77.433</td>\n",
       "</tr>\n",
       "<tr>\n",
       "  <th>Skew:</th>          <td> 0.567</td> <th>  Prob(JB):          </th> <td>1.53e-17</td>\n",
       "</tr>\n",
       "<tr>\n",
       "  <th>Kurtosis:</th>      <td> 5.157</td> <th>  Cond. No.          </th> <td>3.86e+03</td>\n",
       "</tr>\n",
       "</table><br/><br/>Notes:<br/>[1] Standard Errors assume that the covariance matrix of the errors is correctly specified.<br/>[2] The condition number is large, 3.86e+03. This might indicate that there are<br/>strong multicollinearity or other numerical problems."
      ],
      "text/plain": [
       "<class 'statsmodels.iolib.summary.Summary'>\n",
       "\"\"\"\n",
       "                            OLS Regression Results                            \n",
       "==============================================================================\n",
       "Dep. Variable:                    mpg   R-squared:                       0.845\n",
       "Model:                            OLS   Adj. R-squared:                  0.842\n",
       "Method:                 Least Squares   F-statistic:                     418.2\n",
       "Date:                Sat, 17 Jul 2021   Prob (F-statistic):          4.37e-123\n",
       "Time:                        12:09:22   Log-Likelihood:                -799.42\n",
       "No. Observations:                 313   AIC:                             1609.\n",
       "Df Residuals:                     308   BIC:                             1628.\n",
       "Df Model:                           4                                         \n",
       "Covariance Type:            nonrobust                                         \n",
       "================================================================================\n",
       "                   coef    std err          t      P>|t|      [0.025      0.975]\n",
       "--------------------------------------------------------------------------------\n",
       "Intercept      110.9265      8.733     12.702      0.000      93.743     128.110\n",
       "weight         -18.5580      0.847    -21.916      0.000     -20.224     -16.892\n",
       "acceleration     0.0751      0.070      1.075      0.283      -0.062       0.212\n",
       "year             0.7584      0.051     14.756      0.000       0.657       0.859\n",
       "origin           0.9233      0.282      3.278      0.001       0.369       1.478\n",
       "==============================================================================\n",
       "Omnibus:                       34.880   Durbin-Watson:                   2.077\n",
       "Prob(Omnibus):                  0.000   Jarque-Bera (JB):               77.433\n",
       "Skew:                           0.567   Prob(JB):                     1.53e-17\n",
       "Kurtosis:                       5.157   Cond. No.                     3.86e+03\n",
       "==============================================================================\n",
       "\n",
       "Notes:\n",
       "[1] Standard Errors assume that the covariance matrix of the errors is correctly specified.\n",
       "[2] The condition number is large, 3.86e+03. This might indicate that there are\n",
       "strong multicollinearity or other numerical problems.\n",
       "\"\"\""
      ]
     },
     "execution_count": 30,
     "metadata": {},
     "output_type": "execute_result"
    }
   ],
   "source": [
    "model(X_train, X_test, y_train, y_test)"
   ]
  },
  {
   "cell_type": "markdown",
   "id": "3cfea8dc",
   "metadata": {},
   "source": [
    "\"If we increase x by one percent, we expect y to increase by (β1/100) units of y.\""
   ]
  },
  {
   "cell_type": "markdown",
   "id": "b397e456",
   "metadata": {},
   "source": [
    "## Transforming Dependent Variable"
   ]
  },
  {
   "cell_type": "code",
   "execution_count": 37,
   "id": "5bb59c13",
   "metadata": {},
   "outputs": [
    {
     "data": {
      "image/png": "[encoded data removed]",
      "text/plain": [
       "<Figure size 432x288 with 1 Axes>"
      ]
     },
     "metadata": {
      "needs_background": "light"
     },
     "output_type": "display_data"
    },
    {
     "data": {
      "image/png": "[encoded data removed]",
      "text/plain": [
       "<Figure size 432x288 with 1 Axes>"
      ]
     },
     "metadata": {
      "needs_background": "light"
     },
     "output_type": "display_data"
    },
    {
     "data": {
      "image/png": "[encoded data removed]",
      "text/plain": [
       "<Figure size 432x288 with 1 Axes>"
      ]
     },
     "metadata": {
      "needs_background": "light"
     },
     "output_type": "display_data"
    },
    {
     "data": {
      "image/png": "[encoded data removed]",
      "text/plain": [
       "<Figure size 432x288 with 1 Axes>"
      ]
     },
     "metadata": {
      "needs_background": "light"
     },
     "output_type": "display_data"
    },
    {
     "data": {
      "image/png": "[encoded data removed]",
      "text/plain": [
       "<Figure size 432x288 with 1 Axes>"
      ]
     },
     "metadata": {
      "needs_background": "light"
     },
     "output_type": "display_data"
    }
   ],
   "source": [
    "for col in X.columns:\n",
    "    fig = plt.figure\n",
    "    ax = plt.gca()\n",
    "    ax.scatter(X[col], np.log(y))\n",
    "    \n",
    "    ax.set_xlabel(col)\n",
    "    ax.set_ylabel('logged mpg')\n",
    "    \n",
    "    plt.show()"
   ]
  },
  {
   "cell_type": "markdown",
   "id": "5de56cbb",
   "metadata": {},
   "source": [
    "## Log-Transform MPG"
   ]
  },
  {
   "cell_type": "code",
   "execution_count": 40,
   "id": "a07c80eb",
   "metadata": {},
   "outputs": [
    {
     "name": "stdout",
     "output_type": "stream",
     "text": [
      "Train R2:  0.8792547289463692\n",
      "Test R2:  0.8590792995131654\n",
      "Train RMSE:  0.11667244762116381\n",
      "Test RMSE:  0.13289988191701343\n"
     ]
    },
    {
     "data": {
      "text/html": [
       "<table class=\"simpletable\">\n",
       "<caption>OLS Regression Results</caption>\n",
       "<tr>\n",
       "  <th>Dep. Variable:</th>           <td>mpg</td>       <th>  R-squared:         </th> <td>   0.879</td> \n",
       "</tr>\n",
       "<tr>\n",
       "  <th>Model:</th>                   <td>OLS</td>       <th>  Adj. R-squared:    </th> <td>   0.878</td> \n",
       "</tr>\n",
       "<tr>\n",
       "  <th>Method:</th>             <td>Least Squares</td>  <th>  F-statistic:       </th> <td>   560.7</td> \n",
       "</tr>\n",
       "<tr>\n",
       "  <th>Date:</th>             <td>Sat, 17 Jul 2021</td> <th>  Prob (F-statistic):</th> <td>5.53e-140</td>\n",
       "</tr>\n",
       "<tr>\n",
       "  <th>Time:</th>                 <td>12:18:35</td>     <th>  Log-Likelihood:    </th> <td>  228.32</td> \n",
       "</tr>\n",
       "<tr>\n",
       "  <th>No. Observations:</th>      <td>   313</td>      <th>  AIC:               </th> <td>  -446.6</td> \n",
       "</tr>\n",
       "<tr>\n",
       "  <th>Df Residuals:</th>          <td>   308</td>      <th>  BIC:               </th> <td>  -427.9</td> \n",
       "</tr>\n",
       "<tr>\n",
       "  <th>Df Model:</th>              <td>     4</td>      <th>                     </th>     <td> </td>    \n",
       "</tr>\n",
       "<tr>\n",
       "  <th>Covariance Type:</th>      <td>nonrobust</td>    <th>                     </th>     <td> </td>    \n",
       "</tr>\n",
       "</table>\n",
       "<table class=\"simpletable\">\n",
       "<tr>\n",
       "        <td></td>          <th>coef</th>     <th>std err</th>      <th>t</th>      <th>P>|t|</th>  <th>[0.025</th>    <th>0.975]</th>  \n",
       "</tr>\n",
       "<tr>\n",
       "  <th>Intercept</th>    <td>    1.5098</td> <td>    0.161</td> <td>    9.362</td> <td> 0.000</td> <td>    1.192</td> <td>    1.827</td>\n",
       "</tr>\n",
       "<tr>\n",
       "  <th>weight</th>       <td>   -0.0003</td> <td> 1.05e-05</td> <td>  -27.222</td> <td> 0.000</td> <td>   -0.000</td> <td>   -0.000</td>\n",
       "</tr>\n",
       "<tr>\n",
       "  <th>acceleration</th> <td>    0.0053</td> <td>    0.003</td> <td>    1.951</td> <td> 0.052</td> <td>-4.41e-05</td> <td>    0.011</td>\n",
       "</tr>\n",
       "<tr>\n",
       "  <th>year</th>         <td>    0.0306</td> <td>    0.002</td> <td>   15.374</td> <td> 0.000</td> <td>    0.027</td> <td>    0.034</td>\n",
       "</tr>\n",
       "<tr>\n",
       "  <th>origin</th>       <td>    0.0287</td> <td>    0.010</td> <td>    2.821</td> <td> 0.005</td> <td>    0.009</td> <td>    0.049</td>\n",
       "</tr>\n",
       "</table>\n",
       "<table class=\"simpletable\">\n",
       "<tr>\n",
       "  <th>Omnibus:</th>       <td> 6.485</td> <th>  Durbin-Watson:     </th> <td>   1.985</td>\n",
       "</tr>\n",
       "<tr>\n",
       "  <th>Prob(Omnibus):</th> <td> 0.039</td> <th>  Jarque-Bera (JB):  </th> <td>   7.279</td>\n",
       "</tr>\n",
       "<tr>\n",
       "  <th>Skew:</th>          <td>-0.224</td> <th>  Prob(JB):          </th> <td>  0.0263</td>\n",
       "</tr>\n",
       "<tr>\n",
       "  <th>Kurtosis:</th>      <td> 3.598</td> <th>  Cond. No.          </th> <td>7.56e+04</td>\n",
       "</tr>\n",
       "</table><br/><br/>Notes:<br/>[1] Standard Errors assume that the covariance matrix of the errors is correctly specified.<br/>[2] The condition number is large, 7.56e+04. This might indicate that there are<br/>strong multicollinearity or other numerical problems."
      ],
      "text/plain": [
       "<class 'statsmodels.iolib.summary.Summary'>\n",
       "\"\"\"\n",
       "                            OLS Regression Results                            \n",
       "==============================================================================\n",
       "Dep. Variable:                    mpg   R-squared:                       0.879\n",
       "Model:                            OLS   Adj. R-squared:                  0.878\n",
       "Method:                 Least Squares   F-statistic:                     560.7\n",
       "Date:                Sat, 17 Jul 2021   Prob (F-statistic):          5.53e-140\n",
       "Time:                        12:18:35   Log-Likelihood:                 228.32\n",
       "No. Observations:                 313   AIC:                            -446.6\n",
       "Df Residuals:                     308   BIC:                            -427.9\n",
       "Df Model:                           4                                         \n",
       "Covariance Type:            nonrobust                                         \n",
       "================================================================================\n",
       "                   coef    std err          t      P>|t|      [0.025      0.975]\n",
       "--------------------------------------------------------------------------------\n",
       "Intercept        1.5098      0.161      9.362      0.000       1.192       1.827\n",
       "weight          -0.0003   1.05e-05    -27.222      0.000      -0.000      -0.000\n",
       "acceleration     0.0053      0.003      1.951      0.052   -4.41e-05       0.011\n",
       "year             0.0306      0.002     15.374      0.000       0.027       0.034\n",
       "origin           0.0287      0.010      2.821      0.005       0.009       0.049\n",
       "==============================================================================\n",
       "Omnibus:                        6.485   Durbin-Watson:                   1.985\n",
       "Prob(Omnibus):                  0.039   Jarque-Bera (JB):                7.279\n",
       "Skew:                          -0.224   Prob(JB):                       0.0263\n",
       "Kurtosis:                       3.598   Cond. No.                     7.56e+04\n",
       "==============================================================================\n",
       "\n",
       "Notes:\n",
       "[1] Standard Errors assume that the covariance matrix of the errors is correctly specified.\n",
       "[2] The condition number is large, 7.56e+04. This might indicate that there are\n",
       "strong multicollinearity or other numerical problems.\n",
       "\"\"\""
      ]
     },
     "execution_count": 40,
     "metadata": {},
     "output_type": "execute_result"
    }
   ],
   "source": [
    "data = pd.read_csv('auto-mpg.csv')\n",
    "data.columns = ['mpg', 'cylinders', 'displacement', 'horsepower', 'weight', 'acceleration', 'year', 'origin', 'name']\n",
    "\n",
    "y = np.log(data[['mpg']])\n",
    "X = data[['weight', 'acceleration', 'year', 'origin']]\n",
    "X_train, X_test, y_train, y_test = train_test_split(X, y, test_size=0.2)\n",
    "\n",
    "model(X_train, X_test, y_train, y_test)"
   ]
  },
  {
   "cell_type": "code",
   "execution_count": 41,
   "id": "33cb1f85",
   "metadata": {},
   "outputs": [
    {
     "data": {
      "text/plain": [
       "<AxesSubplot:ylabel='Frequency'>"
      ]
     },
     "execution_count": 41,
     "metadata": {},
     "output_type": "execute_result"
    },
    {
     "data": {
      "image/png": "[encoded data removed]",
      "text/plain": [
       "<Figure size 432x288 with 1 Axes>"
      ]
     },
     "metadata": {
      "needs_background": "light"
     },
     "output_type": "display_data"
    }
   ],
   "source": [
    "data['mpg'].plot(kind='hist')"
   ]
  },
  {
   "cell_type": "code",
   "execution_count": 42,
   "id": "44535cb0",
   "metadata": {},
   "outputs": [
    {
     "data": {
      "text/plain": [
       "<AxesSubplot:ylabel='Frequency'>"
      ]
     },
     "execution_count": 42,
     "metadata": {},
     "output_type": "execute_result"
    },
    {
     "data": {
      "image/png": "[encoded data removed]",
      "text/plain": [
       "<Figure size 432x288 with 1 Axes>"
      ]
     },
     "metadata": {
      "needs_background": "light"
     },
     "output_type": "display_data"
    }
   ],
   "source": [
    "np.log(data['mpg']).plot(kind='hist')"
   ]
  },
  {
   "cell_type": "markdown",
   "id": "702c8a4b",
   "metadata": {},
   "source": [
    "### Unscale!!"
   ]
  },
  {
   "cell_type": "code",
   "execution_count": 45,
   "id": "cdf3607d",
   "metadata": {},
   "outputs": [
    {
     "data": {
      "text/plain": [
       "array([[37.22159078],\n",
       "       [32.04568535],\n",
       "       [14.31469395],\n",
       "       [26.83480725],\n",
       "       [22.04549419],\n",
       "       [30.23622195],\n",
       "       [24.51372099],\n",
       "       [16.53643161],\n",
       "       [13.37209602],\n",
       "       [21.52603226],\n",
       "       [17.33843013],\n",
       "       [14.3331495 ],\n",
       "       [22.40209952],\n",
       "       [26.39875832],\n",
       "       [25.54030914],\n",
       "       [13.79932342],\n",
       "       [31.72024549],\n",
       "       [30.34489712],\n",
       "       [12.54570325],\n",
       "       [12.8461509 ],\n",
       "       [34.66947421],\n",
       "       [24.46582724],\n",
       "       [29.70706468],\n",
       "       [23.22939664],\n",
       "       [18.78533577],\n",
       "       [20.89203672],\n",
       "       [31.72593692],\n",
       "       [32.65009745],\n",
       "       [17.2251344 ],\n",
       "       [19.3754307 ],\n",
       "       [25.67436891],\n",
       "       [22.49897785],\n",
       "       [17.43281548],\n",
       "       [26.21784694],\n",
       "       [17.24080628],\n",
       "       [13.89049635],\n",
       "       [24.54562536],\n",
       "       [30.89574718],\n",
       "       [12.75108783],\n",
       "       [31.10218666],\n",
       "       [35.11940854],\n",
       "       [21.65561698],\n",
       "       [14.71682872],\n",
       "       [21.52796224],\n",
       "       [19.61260384],\n",
       "       [15.18391826],\n",
       "       [23.01954736],\n",
       "       [22.59105176],\n",
       "       [26.17665925],\n",
       "       [20.86805861],\n",
       "       [22.91220096],\n",
       "       [35.97380736],\n",
       "       [36.08341759],\n",
       "       [12.42187599],\n",
       "       [18.78435157],\n",
       "       [18.02487109],\n",
       "       [17.34870403],\n",
       "       [30.32794911],\n",
       "       [29.44551754],\n",
       "       [26.55498806],\n",
       "       [33.52993837],\n",
       "       [28.70858635],\n",
       "       [18.65933102],\n",
       "       [29.75350418],\n",
       "       [15.76447238],\n",
       "       [32.06455642],\n",
       "       [19.04909227],\n",
       "       [13.15634865],\n",
       "       [33.52954257],\n",
       "       [31.43847331],\n",
       "       [15.36366398],\n",
       "       [34.3526789 ],\n",
       "       [26.74642832],\n",
       "       [21.3775572 ],\n",
       "       [23.3598634 ],\n",
       "       [22.00411686],\n",
       "       [30.40628579],\n",
       "       [25.12628777],\n",
       "       [19.79040957],\n",
       "       [22.47605827],\n",
       "       [21.8898313 ],\n",
       "       [19.65208241],\n",
       "       [10.47075736],\n",
       "       [21.98104475],\n",
       "       [13.29269699],\n",
       "       [28.27970264],\n",
       "       [29.98352912],\n",
       "       [24.57959738],\n",
       "       [16.79441205],\n",
       "       [17.96644557],\n",
       "       [25.95396484],\n",
       "       [25.33495239],\n",
       "       [23.70722725],\n",
       "       [31.22828708],\n",
       "       [32.95874071],\n",
       "       [31.57640153],\n",
       "       [29.52867902],\n",
       "       [16.90824191],\n",
       "       [37.37261247],\n",
       "       [21.95776878],\n",
       "       [29.21465385],\n",
       "       [16.62268514],\n",
       "       [13.72044103],\n",
       "       [27.66975009],\n",
       "       [29.94612445],\n",
       "       [19.41733016],\n",
       "       [31.64996781],\n",
       "       [23.58450438],\n",
       "       [30.29238813],\n",
       "       [12.01919487],\n",
       "       [33.21804126],\n",
       "       [25.93321065],\n",
       "       [11.11409588],\n",
       "       [14.14903193],\n",
       "       [35.61508436],\n",
       "       [13.31139082],\n",
       "       [17.20998188],\n",
       "       [29.82489266],\n",
       "       [24.15050645],\n",
       "       [11.82371194],\n",
       "       [12.01410329],\n",
       "       [32.44921224],\n",
       "       [32.17651801],\n",
       "       [18.20033408],\n",
       "       [30.97830133],\n",
       "       [25.31110659],\n",
       "       [34.18932641],\n",
       "       [21.69045914],\n",
       "       [29.89781672],\n",
       "       [12.64326998],\n",
       "       [20.52273696],\n",
       "       [29.37919848],\n",
       "       [22.47729225],\n",
       "       [13.35916774],\n",
       "       [25.23225928],\n",
       "       [33.99100514],\n",
       "       [12.84579932],\n",
       "       [22.27613445],\n",
       "       [23.11997013],\n",
       "       [20.18900109],\n",
       "       [14.42954032],\n",
       "       [30.62326714],\n",
       "       [13.98311078],\n",
       "       [24.2948168 ],\n",
       "       [22.87260419],\n",
       "       [18.31291735],\n",
       "       [13.02291896],\n",
       "       [13.37602308],\n",
       "       [35.24925411],\n",
       "       [24.46878184],\n",
       "       [18.59941068],\n",
       "       [29.90148041],\n",
       "       [25.09501778],\n",
       "       [20.07447916],\n",
       "       [20.82971677],\n",
       "       [17.20510224],\n",
       "       [21.03132543],\n",
       "       [29.70660927],\n",
       "       [28.98111912],\n",
       "       [29.9085397 ],\n",
       "       [19.24310986],\n",
       "       [35.28316988],\n",
       "       [27.48697611],\n",
       "       [27.17568708],\n",
       "       [11.72838312],\n",
       "       [17.21342952],\n",
       "       [32.28413735],\n",
       "       [20.03501076],\n",
       "       [26.34902352],\n",
       "       [34.11869572],\n",
       "       [15.68177176],\n",
       "       [11.14623787],\n",
       "       [22.90842761],\n",
       "       [31.77387483],\n",
       "       [17.86114488],\n",
       "       [20.41169959],\n",
       "       [27.26943049],\n",
       "       [25.73090625],\n",
       "       [13.7018121 ],\n",
       "       [28.42629849],\n",
       "       [20.49575068],\n",
       "       [11.80802032],\n",
       "       [15.30916763],\n",
       "       [25.65861904],\n",
       "       [29.79422044],\n",
       "       [25.31810154],\n",
       "       [33.91232708],\n",
       "       [20.68510469],\n",
       "       [31.19673209],\n",
       "       [26.33666834],\n",
       "       [13.49893545],\n",
       "       [18.73093969],\n",
       "       [27.31995951],\n",
       "       [18.81845626],\n",
       "       [19.74414696],\n",
       "       [23.43098155],\n",
       "       [11.14015689],\n",
       "       [32.01202493],\n",
       "       [25.10496441],\n",
       "       [24.13300158],\n",
       "       [19.05062484],\n",
       "       [25.3959436 ],\n",
       "       [28.18783091],\n",
       "       [20.51281209],\n",
       "       [26.00627145],\n",
       "       [32.94288759],\n",
       "       [20.03535434],\n",
       "       [11.34746653],\n",
       "       [32.5167321 ],\n",
       "       [16.07601593],\n",
       "       [16.85692883],\n",
       "       [27.36662494],\n",
       "       [26.59994942],\n",
       "       [14.66281106],\n",
       "       [35.70411198],\n",
       "       [25.10852668],\n",
       "       [14.57992534],\n",
       "       [38.73971547],\n",
       "       [27.34754082],\n",
       "       [23.45995831],\n",
       "       [22.69825488],\n",
       "       [20.05058456],\n",
       "       [22.97302366],\n",
       "       [12.86799464],\n",
       "       [31.19780517],\n",
       "       [26.26434708],\n",
       "       [20.7480297 ],\n",
       "       [25.2853265 ],\n",
       "       [36.09770753],\n",
       "       [24.58320921],\n",
       "       [15.19989199],\n",
       "       [25.70119066],\n",
       "       [21.25278902],\n",
       "       [19.88872645],\n",
       "       [16.070964  ],\n",
       "       [20.28369391],\n",
       "       [17.17178211],\n",
       "       [15.55378835],\n",
       "       [25.52776339],\n",
       "       [18.99506485],\n",
       "       [30.08290197],\n",
       "       [24.1440133 ],\n",
       "       [31.8156888 ],\n",
       "       [21.74305945],\n",
       "       [23.57162973],\n",
       "       [20.88646988],\n",
       "       [25.93824697],\n",
       "       [13.78677985],\n",
       "       [21.14388583],\n",
       "       [17.30639542],\n",
       "       [23.67653362],\n",
       "       [22.2187019 ],\n",
       "       [26.82612916],\n",
       "       [22.96505985],\n",
       "       [24.32012678],\n",
       "       [34.74496717],\n",
       "       [32.43888229],\n",
       "       [29.88835716],\n",
       "       [25.87763239],\n",
       "       [25.11322556],\n",
       "       [14.06750579],\n",
       "       [27.41289627],\n",
       "       [18.62301278],\n",
       "       [15.74896826],\n",
       "       [16.14151165],\n",
       "       [28.6979285 ],\n",
       "       [24.54941749],\n",
       "       [12.21102069],\n",
       "       [15.59223913],\n",
       "       [33.56037281],\n",
       "       [20.39498188],\n",
       "       [15.43180228],\n",
       "       [31.98372119],\n",
       "       [18.55964644],\n",
       "       [26.23079511],\n",
       "       [24.98545607],\n",
       "       [28.54782024],\n",
       "       [29.35804792],\n",
       "       [25.2712734 ],\n",
       "       [15.82953543],\n",
       "       [25.14471532],\n",
       "       [20.05972757],\n",
       "       [17.89848886],\n",
       "       [21.08885163],\n",
       "       [12.05256937],\n",
       "       [32.25059779],\n",
       "       [22.59741422],\n",
       "       [25.59146826],\n",
       "       [22.03105005],\n",
       "       [12.09429269],\n",
       "       [29.69780647],\n",
       "       [37.1502531 ],\n",
       "       [12.586691  ],\n",
       "       [25.65843708],\n",
       "       [14.68225047],\n",
       "       [17.56523027],\n",
       "       [27.21810203],\n",
       "       [21.48947151],\n",
       "       [34.06543074],\n",
       "       [13.8948574 ],\n",
       "       [15.26167177],\n",
       "       [11.9066717 ],\n",
       "       [16.95664014],\n",
       "       [28.35131476],\n",
       "       [29.03301692],\n",
       "       [30.10361095],\n",
       "       [16.42023987],\n",
       "       [16.07060997],\n",
       "       [12.22925987],\n",
       "       [32.94437463],\n",
       "       [24.16013607],\n",
       "       [20.14593536],\n",
       "       [20.28418891]])"
      ]
     },
     "execution_count": 45,
     "metadata": {},
     "output_type": "execute_result"
    }
   ],
   "source": [
    "np.exp(linreg.predict(X_train))\n"
   ]
  },
  {
   "cell_type": "code",
   "execution_count": 46,
   "id": "bdf4b5eb",
   "metadata": {},
   "outputs": [
    {
     "name": "stdout",
     "output_type": "stream",
     "text": [
      "Train RMSE:  2.8819213813595868\n",
      "Test RMSE:  3.1863066688004453\n"
     ]
    }
   ],
   "source": [
    "linreg = LinearRegression()\n",
    "linreg.fit(X_train, y_train)\n",
    "\n",
    "y_hat_train = np.exp(linreg.predict(X_train))\n",
    "y_hat_test = np.exp(linreg.predict(X_test))\n",
    "\n",
    "train_mse = mean_squared_error(np.exp(y_train), y_hat_train)\n",
    "test_mse = mean_squared_error(np.exp(y_test), y_hat_test)\n",
    "\n",
    "print(\"Train RMSE: \", train_mse**0.5)\n",
    "print(\"Test RMSE: \", test_mse**0.5)"
   ]
  },
  {
   "cell_type": "code",
   "execution_count": null,
   "id": "10c1f726",
   "metadata": {},
   "outputs": [],
   "source": []
  }
 ],
 "metadata": {
  "kernelspec": {
   "display_name": "Python 3",
   "language": "python",
   "name": "python3"
  },
  "language_info": {
   "codemirror_mode": {
    "name": "ipython",
    "version": 3
   },
   "file_extension": ".py",
   "mimetype": "text/x-python",
   "name": "python",
   "nbconvert_exporter": "python",
   "pygments_lexer": "ipython3",
   "version": "3.9.5"
  },
  "toc": {
   "base_numbering": 1,
   "nav_menu": {},
   "number_sections": false,
   "sideBar": true,
   "skip_h1_title": false,
   "title_cell": "Table of Contents",
   "title_sidebar": "Contents",
   "toc_cell": false,
   "toc_position": {},
   "toc_section_display": true,
   "toc_window_display": true
  }
 },
 "nbformat": 4,
 "nbformat_minor": 5
}
